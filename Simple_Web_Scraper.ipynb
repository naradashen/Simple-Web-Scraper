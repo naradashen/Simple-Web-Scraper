{
  "nbformat": 4,
  "nbformat_minor": 0,
  "metadata": {
    "colab": {
      "provenance": []
    },
    "kernelspec": {
      "name": "python3",
      "display_name": "Python 3"
    },
    "language_info": {
      "name": "python"
    }
  },
  "cells": [
    {
      "cell_type": "code",
      "execution_count": null,
      "metadata": {
        "colab": {
          "base_uri": "https://localhost:8080/"
        },
        "id": "NZRhjCv8tvVy",
        "outputId": "50d61600-13a2-49fd-932a-feda67f531be"
      },
      "outputs": [
        {
          "output_type": "stream",
          "name": "stdout",
          "text": [
            "Requirement already satisfied: requests in /usr/local/lib/python3.10/dist-packages (2.31.0)\n",
            "Requirement already satisfied: charset-normalizer<4,>=2 in /usr/local/lib/python3.10/dist-packages (from requests) (3.3.2)\n",
            "Requirement already satisfied: idna<4,>=2.5 in /usr/local/lib/python3.10/dist-packages (from requests) (3.6)\n",
            "Requirement already satisfied: urllib3<3,>=1.21.1 in /usr/local/lib/python3.10/dist-packages (from requests) (2.0.7)\n",
            "Requirement already satisfied: certifi>=2017.4.17 in /usr/local/lib/python3.10/dist-packages (from requests) (2024.2.2)\n",
            "Requirement already satisfied: beautifulsoup4 in /usr/local/lib/python3.10/dist-packages (4.12.3)\n",
            "Requirement already satisfied: soupsieve>1.2 in /usr/local/lib/python3.10/dist-packages (from beautifulsoup4) (2.5)\n"
          ]
        }
      ],
      "source": [
        "!pip install requests\n",
        "!pip install beautifulsoup4\n"
      ]
    },
    {
      "cell_type": "code",
      "source": [
        "import requests\n",
        "from bs4 import BeautifulSoup\n",
        "\n",
        "def scrape_website(url):\n",
        "    # Send a GET request to the URL\n",
        "    response = requests.get(url)\n",
        "\n",
        "    # Check if the request was successful (status code 200)\n",
        "    if response.status_code == 200:\n",
        "        # Parse the HTML content of the page\n",
        "        soup = BeautifulSoup(response.text, 'html.parser')\n",
        "\n",
        "        # Extract data using BeautifulSoup methods\n",
        "        # Example: Extract all the links on the page\n",
        "        links = soup.find_all('a')\n",
        "        for link in links:\n",
        "            print(link.get('href'))\n",
        "\n",
        "    else:\n",
        "        print(f\"Error: Unable to retrieve the webpage. Status code: {response.status_code}\")\n",
        "\n",
        "# Default URL: 'https://example.com'\n",
        "default_url = 'https://starbucks.com/'  # Your URL\n",
        "\n",
        "# Example usage with the default URL\n",
        "scrape_website(default_url)\n"
      ],
      "metadata": {
        "colab": {
          "base_uri": "https://localhost:8080/"
        },
        "id": "MYpdPh1Qt4hg",
        "outputId": "dc1c8094-546d-4cb1-cfa7-112ed72f9456"
      },
      "execution_count": null,
      "outputs": [
        {
          "output_type": "stream",
          "name": "stdout",
          "text": [
            "#primary-content\n",
            "https://www.starbucks.com\n",
            "https://www.starbucks.com/menu\n",
            "https://www.starbucks.com/rewards\n",
            "https://www.starbucks.com/gift\n",
            "https://www.starbucks.com/store-locator\n",
            "https://www.starbucks.com/account/signin?ReturnUrl=%2F\n",
            "https://www.starbucks.com/account/create\n",
            "https://www.starbucks.com/menu\n",
            "https://www.starbucks.com/rewards\n",
            "https://www.starbucks.com/gift\n",
            "https://www.starbucks.com/account/signin?ReturnUrl=%2F\n",
            "https://www.starbucks.com/account/create\n",
            "https://www.starbucks.com/store-locator\n",
            "https://app.starbucks.com/account/cards\n",
            "https://app.starbucks.com/account/rewards\n",
            "https://app.starbucks.com/account/history\n",
            "https://app.starbucks.com/account/personal\n",
            "https://app.starbucks.com/account/payment-method\n",
            "https://app.starbucks.com/account/settings/privacy\n",
            "https://app.starbucks.com/account/settings\n",
            "https://www.starbucks.com/account/signout?ReturnUrl=%2F\n",
            "https://promotions.bankofamerica.com/starbucks?cm_mmc=ESZ-EnterpriseSales-_-Cobrand_Site-_-ES35LT0001_StarbucksHP_HPModuleSpot1-_-StarbucksPartnerMktg\n",
            "https://www.starbucks.com/menu/featured/\n",
            "https://www.starbucks.com/menu/product/2123803/iced\n",
            "https://www.starbucks.com/menu/product/2123800/single\n",
            "https://www.starbucks.com/menu/product/792/whole-bean\n",
            "https://stories.starbucks.com/stories/2024/how-starbucks-partners-create-belonging-build-connections-uplift-communities/?utm_source=stripe&utm_medium=homepage&utm_campaign=partners\n",
            "https://www.starbucks.com/bofa\n",
            "https://www.starbucks.com/about-us/\n",
            "https://www.starbucks.com/coffee/\n",
            "https://stories.starbucks.com/\n",
            "https://archive.starbucks.com/\n",
            "https://investor.starbucks.com\n",
            "https://customerservice.starbucks.com/\n",
            "https://www.starbucks.com/contact/\n",
            "https://www.starbucks.com/about-us/\n",
            "https://www.starbucks.com/coffee/\n",
            "https://stories.starbucks.com/\n",
            "https://archive.starbucks.com/\n",
            "https://investor.starbucks.com\n",
            "https://customerservice.starbucks.com/\n",
            "https://www.starbucks.com/contact/\n",
            "https://www.starbucks.com/careers/working-at-starbucks/culture-and-values/\n",
            "https://stories.starbucks.com/stories/inclusion-diversity/\n",
            "https://www.starbucks.com/careers/working-at-starbucks/education/\n",
            "https://alumni.starbucks.com/\n",
            "https://www.starbucks.com/careers/\n",
            "https://www.starbucks.com/careers/international-careers/\n",
            "https://www.starbucks.com/careers/working-at-starbucks/culture-and-values/\n",
            "https://stories.starbucks.com/stories/inclusion-diversity/\n",
            "https://www.starbucks.com/careers/working-at-starbucks/education/\n",
            "https://alumni.starbucks.com/\n",
            "https://www.starbucks.com/careers/\n",
            "https://www.starbucks.com/careers/international-careers/\n",
            "https://starbucks.com/responsibility/people/\n",
            "https://starbucks.com/responsibility/planet/\n",
            "https://www.starbucks.com/responsibility/reporting-hub/\n",
            "https://starbucks.com/responsibility/people/\n",
            "https://starbucks.com/responsibility/planet/\n",
            "https://www.starbucks.com/responsibility/reporting-hub/\n",
            "https://www.starbucks.com/business/landlord-faq/\n",
            "https://www.starbucks.com/business/suppliers/\n",
            "https://www.starbuckscardb2b.com/\n",
            "https://www.nestlecoffeepartnerssl.com/our-brands/we-proudly-serve-starbucks-coffee-program\n",
            "https://www.starbucks.com/business/landlord-faq/\n",
            "https://www.starbucks.com/business/suppliers/\n",
            "https://www.starbuckscardb2b.com/\n",
            "https://www.nestlecoffeepartnerssl.com/our-brands/we-proudly-serve-starbucks-coffee-program\n",
            "https://www.starbucks.com/rewards/mobile-apps/\n",
            "https://www.starbucks.com/menu\n",
            "https://www.starbucks.com/ways-to-order/delivery/\n",
            "https://www.starbucks.com/ways-to-order/\n",
            "https://athome.starbucks.com/?utm_source=starbucks.com&utm_medium=referral&utm_campaign=footer\n",
            "https://www.starbucks.com/rewards/mobile-apps/\n",
            "https://www.starbucks.com/menu\n",
            "https://www.starbucks.com/ways-to-order/delivery/\n",
            "https://www.starbucks.com/ways-to-order/\n",
            "https://athome.starbucks.com/?utm_source=starbucks.com&utm_medium=referral&utm_campaign=footer\n",
            "https://open.spotify.com/user/starbucks\n",
            "https://facebook.com/starbucks\n",
            "https://www.pinterest.com/starbucks/\n",
            "https://instagram.com/starbucks\n",
            "https://www.youtube.com/starbucks\n",
            "https://twitter.com/starbucks/\n",
            "https://www.starbucks.com/terms/privacy-policy/\n",
            "https://www.starbucks.com/terms/starbucks-terms-of-use/\n",
            "https://www.starbucks.com/personal-information\n",
            "https://content-prod-live.cert.starbucks.com/binary/v2/asset/137-70076.pdf\n",
            "https://www.starbucks.com/about-us/accessibility/\n"
          ]
        }
      ]
    }
  ]
}