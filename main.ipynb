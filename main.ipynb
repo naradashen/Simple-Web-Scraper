import requests
from bs4 import BeautifulSoup

def scrape_website(url):
    # Send a GET request to the URL
    response = requests.get(url)

    # Check if the request was successful (status code 200)
    if response.status_code == 200:
        # Parse the HTML content of the page
        soup = BeautifulSoup(response.text, 'html.parser')

        # Extract data using BeautifulSoup methods
        # Example: Extract all the links on the page
        links = soup.find_all('a')
        for link in links:
            print(link.get('href'))

    else:
        print(f"Error: Unable to retrieve the webpage. Status code: {response.status_code}")

# Default URL: 'https://example.com'
default_url = 'https://thinknfree.com/'  # Your URL

# Example usage with the default URL
scrape_website(default_url)
